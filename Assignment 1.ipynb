{
 "cells": [
  {
   "cell_type": "code",
   "execution_count": null,
   "metadata": {},
   "outputs": [],
   "source": [
    "#1. In the below elements which of them are values or an expression? eg:- values can be\n",
    "integer or string and expressions will be mathematical operators.\n",
    "\n",
    "*        - this is an expression.\n",
    "'hello'  - this is a value.\n",
    "-87.8    - this is a value.\n",
    "-        - this is an expression.\n",
    "/        - this is an expression.\n",
    "+        - this is an expression.\n",
    "6        - this is a value.\n",
    "\n",
    "\n",
    "#2. What is the difference between string and variable?\n",
    "\n",
    "#String consists of words which are enclosed in (\"\") or ('').\n",
    "#While, A variable is a value that can store a string or a number in it.\n",
    "\n",
    "#3. Describe three different data types.\n",
    "# 1)Integer(int)-This consist of all the interger values.\n",
    "# 2)String(str)-This consist of all alphabets ,words or sentences.\n",
    "# 3)Float(float)- This consist of numbers with decimal points.\n",
    "\n",
    "#4. What is an expression made up of? What do all expressions do?\n",
    " # Expressions are made up of values (str,int,float) joint together by mathematical operators.\n",
    " #expressions often lead to a single value solution.\n",
    "\n",
    "\n",
    "#This assignment statements, like spam = 10. What is the difference between an expression and a statement?\n",
    "# spam= 10 is an assignment operation ,it assigns the value 10 to the word spam.\n",
    "#So here the statement performs assignment.\n",
    "#While,the expression is representation of a value.\n",
    "\n",
    "#After running the following code, what does the variable bacon contain?\n",
    "bacon = 22\n",
    "bacon + 1\n",
    "=> 23\n",
    "\n",
    "#'spam'+ 'spamspam'\n",
    "=>'spamspamspam'\n",
    "#'spam'*3\n",
    "=>'spamspamspam'\n",
    "\n",
    "\n",
    "#Why is eggs a valid variable name while 100 is invalid?\n",
    "# A variable is used to store a value ,any string can be used to store a value as a result egg is valid varible.\n",
    "#On the ohter hand 100 is an interger value,as a result we cant assign any value to it ,as it becomes logically impossible.\n",
    "# For example (100 = 20) is not logically possible ,while (egg= 100)means that the variable egg is assigned the value 100.\n",
    "\n",
    "#What three functions can be used to get the integer, floating-point number, or string version of a value?\n",
    "#The int(), float(), and str() functions can be used to get the integer, floating-point number, or string version of a value\n",
    "\n",
    "\n",
    "#Why does this expression cause an error? How can you fix it?\n",
    "# The expression gives you an error because it is not possible to concatenate string and interger value.\n",
    "# You can fix this error by writing it in the following manner.\n",
    "#'I have eaten' +  '99' + 'burritos'"
   ]
  },
  {
   "cell_type": "code",
   "execution_count": null,
   "metadata": {},
   "outputs": [],
   "source": []
  },
  {
   "cell_type": "code",
   "execution_count": null,
   "metadata": {},
   "outputs": [],
   "source": []
  },
  {
   "cell_type": "code",
   "execution_count": null,
   "metadata": {},
   "outputs": [],
   "source": []
  },
  {
   "cell_type": "code",
   "execution_count": null,
   "metadata": {},
   "outputs": [],
   "source": []
  },
  {
   "cell_type": "code",
   "execution_count": null,
   "metadata": {},
   "outputs": [],
   "source": []
  },
  {
   "cell_type": "code",
   "execution_count": null,
   "metadata": {},
   "outputs": [],
   "source": []
  }
 ],
 "metadata": {
  "kernelspec": {
   "display_name": "Python 3",
   "language": "python",
   "name": "python3"
  },
  "language_info": {
   "codemirror_mode": {
    "name": "ipython",
    "version": 3
   },
   "file_extension": ".py",
   "mimetype": "text/x-python",
   "name": "python",
   "nbconvert_exporter": "python",
   "pygments_lexer": "ipython3",
   "version": "3.8.5"
  }
 },
 "nbformat": 4,
 "nbformat_minor": 4
}
